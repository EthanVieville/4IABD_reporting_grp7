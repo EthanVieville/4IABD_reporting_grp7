{
 "cells": [
  {
   "cell_type": "code",
   "execution_count": 1,
   "id": "04c911c5",
   "metadata": {},
   "outputs": [],
   "source": [
    "import pandas as pd\n"
   ]
  },
  {
   "cell_type": "code",
   "execution_count": 5,
   "id": "fa855746",
   "metadata": {},
   "outputs": [
    {
     "name": "stdout",
     "output_type": "stream",
     "text": [
      "id                                102599\n",
      "NAME                              102349\n",
      "host id                           102599\n",
      "host_identity_verified            102310\n",
      "host name                         102193\n",
      "neighbourhood group               102570\n",
      "neighbourhood                     102583\n",
      "lat                               102591\n",
      "long                              102591\n",
      "country                           102067\n",
      "country code                      102468\n",
      "instant_bookable                  102494\n",
      "cancellation_policy               102523\n",
      "room type                         102599\n",
      "Construction year                 102385\n",
      "price                             102352\n",
      "service fee                       102326\n",
      "minimum nights                    102190\n",
      "number of reviews                 102416\n",
      "last review                        86706\n",
      "reviews per month                  86720\n",
      "review rate number                102273\n",
      "calculated host listings count    102280\n",
      "availability 365                  102151\n",
      "house_rules                        50468\n",
      "license                                2\n",
      "dtype: int64\n"
     ]
    },
    {
     "name": "stderr",
     "output_type": "stream",
     "text": [
      "C:\\Users\\ethan\\AppData\\Local\\Temp\\ipykernel_16560\\45648590.py:1: DtypeWarning: Columns (25) have mixed types. Specify dtype option on import or set low_memory=False.\n",
      "  df = pd.read_csv(\"Airbnb_Open_Data.csv\")\n"
     ]
    }
   ],
   "source": [
    "\n",
    "df = pd.read_csv(\"Airbnb_Open_Data.csv\")\n",
    "\n",
    "\n",
    "print(df.count())\n",
    "\n"
   ]
  },
  {
   "cell_type": "code",
   "execution_count": 7,
   "id": "c0ae1106",
   "metadata": {},
   "outputs": [
    {
     "name": "stdout",
     "output_type": "stream",
     "text": [
      "id                                102599\n",
      "NAME                              102349\n",
      "host id                           102599\n",
      "host_identity_verified            102310\n",
      "host name                         102193\n",
      "neighbourhood group               102570\n",
      "neighbourhood                     102583\n",
      "lat                               102591\n",
      "long                              102591\n",
      "country                           102067\n",
      "country code                      102468\n",
      "instant_bookable                  102494\n",
      "cancellation_policy               102523\n",
      "room type                         102599\n",
      "Construction year                 102385\n",
      "price                             102352\n",
      "service fee                       102326\n",
      "minimum nights                    102190\n",
      "number of reviews                 102416\n",
      "last review                        86706\n",
      "reviews per month                 102599\n",
      "review rate number                102599\n",
      "calculated host listings count    102280\n",
      "availability 365                  102151\n",
      "house_rules                        50468\n",
      "license                                2\n",
      "dtype: int64\n"
     ]
    },
    {
     "name": "stderr",
     "output_type": "stream",
     "text": [
      "C:\\Users\\ethan\\AppData\\Local\\Temp\\ipykernel_16560\\631030868.py:1: FutureWarning: A value is trying to be set on a copy of a DataFrame or Series through chained assignment using an inplace method.\n",
      "The behavior will change in pandas 3.0. This inplace method will never work because the intermediate object on which we are setting values always behaves as a copy.\n",
      "\n",
      "For example, when doing 'df[col].method(value, inplace=True)', try using 'df.method({col: value}, inplace=True)' or df[col] = df[col].method(value) instead, to perform the operation inplace on the original object.\n",
      "\n",
      "\n",
      "  df['reviews per month'].fillna(0, inplace=True)\n",
      "C:\\Users\\ethan\\AppData\\Local\\Temp\\ipykernel_16560\\631030868.py:2: FutureWarning: A value is trying to be set on a copy of a DataFrame or Series through chained assignment using an inplace method.\n",
      "The behavior will change in pandas 3.0. This inplace method will never work because the intermediate object on which we are setting values always behaves as a copy.\n",
      "\n",
      "For example, when doing 'df[col].method(value, inplace=True)', try using 'df.method({col: value}, inplace=True)' or df[col] = df[col].method(value) instead, to perform the operation inplace on the original object.\n",
      "\n",
      "\n",
      "  df['review rate number'].fillna(0, inplace=True)\n"
     ]
    }
   ],
   "source": [
    "df['reviews per month'].fillna(0, inplace=True)\n",
    "df['review rate number'].fillna(0, inplace=True)\n",
    "print(df.count())\n"
   ]
  },
  {
   "cell_type": "code",
   "execution_count": null,
   "id": "5fc8804c",
   "metadata": {},
   "outputs": [],
   "source": []
  }
 ],
 "metadata": {
  "kernelspec": {
   "display_name": "Python 3",
   "language": "python",
   "name": "python3"
  },
  "language_info": {
   "codemirror_mode": {
    "name": "ipython",
    "version": 3
   },
   "file_extension": ".py",
   "mimetype": "text/x-python",
   "name": "python",
   "nbconvert_exporter": "python",
   "pygments_lexer": "ipython3",
   "version": "3.12.10"
  }
 },
 "nbformat": 4,
 "nbformat_minor": 5
}
